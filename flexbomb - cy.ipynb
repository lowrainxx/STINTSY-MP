{
 "cells": [
  {
   "cell_type": "markdown",
   "metadata": {},
   "source": [
    "# MUSIC DATASET - STINTSY S14 PROJECT (FLEXBOMB)\n",
    "<a id='MUSIC_DATASET'></a>\n",
    "This notebook is an exploratory data analysis on the Music Dataset. The dataset will be explained, cleaned, and explored by the end of this notebook.\n",
    "\n",
    "| **`Table of Contents`** |\n",
    "| --- |\n",
    "| [The Dataset](#the-dataset) |\n",
    "| [List of Requirements](#List-of-Requirements) |\n",
    "| [Reading the Dataset](#reading-the-dataset) |\n",
    "| [Data Preprocessing and Cleaning](#Data-Preprocessing-and-Cleaning) |\n",
    "| [Exploratory Data Analysis](#exploratory-data-analysis) |\n",
    "| - [Question 1](#Question-1:-question) |\n",
    "\n",
    "<br>\n",
    "\n",
    "**`Authors`**: \n",
    "- Fausto, Lorane Bernadeth M. <br>\n",
    "- Nadela, Cymon <br>\n",
    "- Oliva, Irah <br>"
   ]
  },
  {
   "cell_type": "markdown",
   "metadata": {},
   "source": [
    "\n",
    "\n",
    "\\<indicate target task (i.e. classification or regression) here\\>"
   ]
  },
  {
   "cell_type": "markdown",
   "metadata": {},
   "source": [
    "## The Dataset\n",
    "\n",
    "-- [Return to Table of Contents](#music-dataset---stintsy-s14-project-(flexbomb)) --\n",
    "\n",
    "**`Music`** is a universal language, transcending cultures and time. It is a powerful art form that can evoke a wide range of emotions, from joy and excitement to sadness and reflection. Music can be used to express oneself, to connect with others, and to celebrate life. We are studying this dataset because it could be essential for studying music and developing new music technologies. In this notebook in particular, it will be used to train machine learning models to perform a variety of tasks. These models can then be used to create new products and services, such as personalized music streaming services and intelligent music assistants.\n",
    "\n",
    "The dataset is provided as a `.csv` file where it can be viewed in Excel and Notepad. \n",
    "\n",
    "This dataset contains 17,996 **rows** across 17 **columns**. Each row represents **1 song**, while columns represent **audio features**. The following are the columns in the dataset and their descriptions:\n",
    "\n",
    "| Column Name | Description |\n",
    "| --- | --- |\n",
    "| **`Artist Name`** | Name of artist |\n",
    "| **`Track Name`** | Name of song |\n",
    "| **`Popularity`** | A value between 0 and 100, calculated by an algorithm and is based, in the most part, on the total number of plays the track has had and how recent those plays are |\n",
    "| **`danceability`** | Describes how suitable a track is for dancing; 0.0 is least danceable and 1.0 is most danceable |\n",
    "| **`energy`** | A measure from 0.0 to 1.0 and represents a perceptual measure of intensity and activity |\n",
    "| **`key`** | The key the track is in, integers map to pitches using standard [Pitch Class notation](https://en.wikipedia.org/wiki/Pitch_class); -1 if no key was detected |\n",
    "| **`loudness`** | The quality of a sound that is the primary psychological correlate of physical strength (amplitude), values are averaged across the entire track; in decibels (dB) |\n",
    "| **`mode`** | Indicates the modality (major or minor) of a track, the type of scale from which its melodic content is derived; 1 is Major and 0 is Minor |\n",
    "| **`speechiness`** | The presence of spoken words in a track; >0.66 is probably made entirely of spoken words, 0.33-0.66 may contain both music and speech, <0.33 most likely represents music |\n",
    "| **`acousticness`** | A confidence measure from 0.0 to 1.0 of whether the track is acoustic |\n",
    "| **`instrumentalness`** | Predicts whether a track contains no vocals; >0.5 is intended to represent instrumental tracks |\n",
    "| **`liveness`** | Detects the presence of an audience in the recording; >0.8 provides strong likelihood that the track is live |\n",
    "| **`valence`** | A measure from 0.0 to 1.0 describing the musical positiveness conveyed by a track; tracks with high valence sound more positive, and vice versa|\n",
    "| **`tempo`** | The overall estimated tempo of a track in beats per minute (BPM) |\n",
    "| **`duration_in min/ms`** | Duration in millisecond (ms) |\n",
    "| **`time_signature`** | A notational convention to specify how many beats are in each bar |\n",
    "| **`Class`** | corresponds to the genre of the track |"
   ]
  },
  {
   "cell_type": "markdown",
   "metadata": {},
   "source": [
    "State a brief description of the dataset.\n",
    "\n",
    "• Provide a description of the collection process executed to build the dataset. Discuss the\n",
    "implications of the data collection method on the generated conclusions and insights.\n",
    "Note that you may need to look at relevant sources related to the dataset to acquire\n",
    "necessary information for this part of the project.\n",
    "\n",
    "• Describe the structure of the dataset file. <br>\n",
    "    o What does each row and column represent? <br>\n",
    "    o How many instances are there in the dataset? <br>\n",
    "    o How many features are there in the dataset? <br>\n",
    "    o If the dataset is composed of different files that you will combine in the succeeding\n",
    "steps, describe the structure and the contents of each file.\n",
    "\n",
    "• Discuss the features in each dataset file. What does each feature represent? All features,\n",
    "even those which are not used for the study, should be described to the reader. The\n",
    "purpose of each feature in the dataset should be clear to the reader of the notebook\n",
    "without having to go through an external link."
   ]
  },
  {
   "cell_type": "markdown",
   "metadata": {},
   "source": [
    "## List of Requirements\n",
    "-- [Return to Table of Contents](#music-dataset---stintsy-s14-project-(flexbomb)) --\n",
    "\n",
    "1. [Numpy](https://numpy.org/)\n",
    "2. [Matplotlib](https://matplotlib.org/)\n",
    "3. [CSV](https://docs.python.org/3/library/csv.html)\n",
    "\n",
    "For this notebook, **numpy**, **matplotlib**, and **csv** must be imported."
   ]
  },
  {
   "cell_type": "code",
   "execution_count": 9,
   "metadata": {
    "colab": {
     "base_uri": "https://localhost:8080/",
     "height": 35
    },
    "colab_type": "code",
    "id": "A5vlL2jfDNoE",
    "outputId": "7b0fd08a-ac20-4c02-97f0-392001a32f0d"
   },
   "outputs": [],
   "source": [
    "import numpy as np\n",
    "import matplotlib.pyplot as plt\n",
    "import csv\n",
    "\n",
    "plt.style.use('ggplot')\n",
    "\n",
    "%matplotlib inline\n",
    "%load_ext autoreload\n",
    "%autoreload 2"
   ]
  },
  {
   "cell_type": "markdown",
   "metadata": {},
   "source": [
    "## Reading the Dataset\n",
    "-- [Return to Table of Contents](#music-dataset---stintsy-s14-project-(flexbomb)) --\n",
    "\n",
    "Here we will load the dataset using `csv`. We use the [`reader`](https://docs.python.org/3/library/csv.html) function to load the dataset. The path will have to be changed depending on the location of the file in your machine.\n"
   ]
  },
  {
   "cell_type": "code",
   "execution_count": 10,
   "metadata": {},
   "outputs": [],
   "source": [
    "with open('music.csv', 'r') as csv_file:\n",
    "    raw_data = csv.reader(csv_file)\n",
    "    next(csv_file)"
   ]
  },
  {
   "cell_type": "markdown",
   "metadata": {},
   "source": [
    "The dataset is now loaded in the ???.\n",
    "\n",
    "Show the contents of the..."
   ]
  },
  {
   "cell_type": "code",
   "execution_count": 11,
   "metadata": {
    "colab_type": "text",
    "id": "J9k8lCPbHTkb"
   },
   "outputs": [],
   "source": [
    "## show shape"
   ]
  },
  {
   "cell_type": "markdown",
   "metadata": {},
   "source": [
    "## Exploratory Data Analysis Questions\n",
    "-- [Return to Table of Contents](#music-dataset---stintsy-s14-project-(flexbomb)) --\n",
    "\n",
    "1. [**`Question 1`**](#question-1)"
   ]
  },
  {
   "cell_type": "markdown",
   "metadata": {},
   "source": [
    "## Data Preprocessing and Cleaning\n",
    "\n",
    "-- [Return to Table of Contents](#music-dataset---stintsy-s14-project-(flexbomb)) --"
   ]
  },
  {
   "cell_type": "markdown",
   "metadata": {},
   "source": [
    "Before we can begin exploring the data, we must first clean the dataset. This is to prevent inconsistencies that may cause problems or errors during analysis.\n",
    "\n",
    "First, we will organize the dataset columns to make it easier to understand. Also, some columns are renamed for shorter accessibility."
   ]
  },
  {
   "cell_type": "code",
   "execution_count": 12,
   "metadata": {},
   "outputs": [],
   "source": [
    "#"
   ]
  },
  {
   "cell_type": "markdown",
   "metadata": {},
   "source": [
    "### List of Column names changed:\n",
    "| Old Name | New Name |\n",
    "| --- | --- |\n",
    "| oldname | `newname` |\n",
    "| oldname | `newname` |\n",
    "| oldname | `newname` |\n",
    "| oldname | `newname` |"
   ]
  },
  {
   "cell_type": "markdown",
   "metadata": {},
   "source": [
    "We then check if there are any duplicated data in the dataset. We do this by calling the ??? function. The function checks and returns the duplicated values."
   ]
  },
  {
   "cell_type": "code",
   "execution_count": 13,
   "metadata": {},
   "outputs": [
    {
     "name": "stdout",
     "output_type": "stream",
     "text": [
      "Number of duplicates: \n",
      "Duplicated data\n"
     ]
    }
   ],
   "source": [
    "print(\"Number of duplicates: \")\n",
    "print(\"Duplicated data\")"
   ]
  },
  {
   "cell_type": "markdown",
   "metadata": {},
   "source": [
    "As displayed above there are **``?? duplicates``** in the dataset. These can be simply removed by calling the function the ??? function."
   ]
  },
  {
   "cell_type": "code",
   "execution_count": 14,
   "metadata": {},
   "outputs": [],
   "source": [
    "#drop duplicates"
   ]
  },
  {
   "cell_type": "markdown",
   "metadata": {},
   "source": [
    "Check which columns have **NaN or Null** values and **count** how many null values each column has."
   ]
  },
  {
   "cell_type": "code",
   "execution_count": 15,
   "metadata": {},
   "outputs": [],
   "source": [
    "# show nan_count per variable"
   ]
  },
  {
   "cell_type": "markdown",
   "metadata": {},
   "source": [
    "Here is a graph of the amount of null data in each column for better visualization."
   ]
  },
  {
   "cell_type": "code",
   "execution_count": 16,
   "metadata": {},
   "outputs": [],
   "source": [
    "# nan bar graph"
   ]
  },
  {
   "cell_type": "markdown",
   "metadata": {},
   "source": [
    "The dataset should first be described for us to know how to handle the NaN values. Here we used the ??? function to..."
   ]
  },
  {
   "cell_type": "code",
   "execution_count": 17,
   "metadata": {},
   "outputs": [],
   "source": [
    "# "
   ]
  },
  {
   "cell_type": "markdown",
   "metadata": {},
   "source": [
    "Now that we have cleaned all columns that will be used for this notebook. We can now begin the [Exploratory Data Analysis](#exploratory-data-analysis)."
   ]
  },
  {
   "cell_type": "markdown",
   "metadata": {},
   "source": [
    "## Exploratory Data Analysis\n",
    "\n",
    "-- [Return to Table of Contents](#music-dataset---stintsy-s14-project-(flexbomb)) --"
   ]
  },
  {
   "cell_type": "markdown",
   "metadata": {},
   "source": [
    "### Question 1: Question"
   ]
  },
  {
   "cell_type": "markdown",
   "metadata": {},
   "source": [
    "### EDA Question 1 Results"
   ]
  }
 ],
 "metadata": {
  "colab": {
   "name": "1 - Jupyter Notebook and Python.ipynb",
   "provenance": []
  },
  "kernelspec": {
   "display_name": "Python 3.9.12 ('base')",
   "language": "python",
   "name": "python3"
  },
  "language_info": {
   "codemirror_mode": {
    "name": "ipython",
    "version": 3
   },
   "file_extension": ".py",
   "mimetype": "text/x-python",
   "name": "python",
   "nbconvert_exporter": "python",
   "pygments_lexer": "ipython3",
   "version": "3.11.0"
  },
  "vscode": {
   "interpreter": {
    "hash": "35ed6aa12a0d6ba18c9d471f8c51327fdbfc13293fb971f148297e9497ae5ae2"
   }
  }
 },
 "nbformat": 4,
 "nbformat_minor": 1
}
