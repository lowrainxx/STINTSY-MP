{
 "cells": [
  {
   "cell_type": "markdown",
   "metadata": {},
   "source": [
    "# MUSIC DATASET - STINTSY S14 PROJECT (FLEXBOMB)\n",
    "<a id='MUSIC_DATASET'></a>\n",
    "This notebook is an exploratory data analysis on the Music Dataset. The dataset will be explained, cleaned, and explored by the end of this notebook.\n",
    "\n",
    "| **`Table of Contents`** |\n",
    "| --- |\n",
    "| [The Dataset](#the-dataset) |\n",
    "| [List of Requirements](#List-of-Requirements) |\n",
    "| [Reading the Dataset](#reading-the-dataset) |\n",
    "| [Data Preprocessing and Cleaning](#Data-Preprocessing-and-Cleaning) |\n",
    "| [Exploratory Data Analysis](#exploratory-data-analysis) |\n",
    "| - [Question 1](#Question-1:-question) |\n",
    "\n",
    "<br>\n",
    "\n",
    "**`Authors`**: \n",
    "- Fausto, Lorane Bernadeth M. <br>\n",
    "- Nadela, Cymon <br>\n",
    "- Oliva, Irah <br>"
   ]
  },
  {
   "cell_type": "code",
   "execution_count": 3,
   "metadata": {},
   "outputs": [
    {
     "name": "stdout",
     "output_type": "stream",
     "text": [
      "Requirement already satisfied: pandas in c:\\users\\cymon\\anaconda3\\lib\\site-packages (2.0.3)\n",
      "Requirement already satisfied: python-dateutil>=2.8.2 in c:\\users\\cymon\\anaconda3\\lib\\site-packages (from pandas) (2.8.2)\n",
      "Requirement already satisfied: pytz>=2020.1 in c:\\users\\cymon\\anaconda3\\lib\\site-packages (from pandas) (2023.3.post1)\n",
      "Requirement already satisfied: tzdata>=2022.1 in c:\\users\\cymon\\anaconda3\\lib\\site-packages (from pandas) (2023.3)\n",
      "Requirement already satisfied: numpy>=1.21.0 in c:\\users\\cymon\\anaconda3\\lib\\site-packages (from pandas) (1.24.3)\n",
      "Requirement already satisfied: six>=1.5 in c:\\users\\cymon\\anaconda3\\lib\\site-packages (from python-dateutil>=2.8.2->pandas) (1.16.0)\n",
      "Requirement already satisfied: seaborn in c:\\users\\cymon\\anaconda3\\lib\\site-packages (0.12.2)\n",
      "Requirement already satisfied: numpy!=1.24.0,>=1.17 in c:\\users\\cymon\\anaconda3\\lib\\site-packages (from seaborn) (1.24.3)\n",
      "Requirement already satisfied: pandas>=0.25 in c:\\users\\cymon\\anaconda3\\lib\\site-packages (from seaborn) (2.0.3)\n",
      "Requirement already satisfied: matplotlib!=3.6.1,>=3.1 in c:\\users\\cymon\\anaconda3\\lib\\site-packages (from seaborn) (3.7.2)\n",
      "Requirement already satisfied: contourpy>=1.0.1 in c:\\users\\cymon\\anaconda3\\lib\\site-packages (from matplotlib!=3.6.1,>=3.1->seaborn) (1.0.5)\n",
      "Requirement already satisfied: cycler>=0.10 in c:\\users\\cymon\\anaconda3\\lib\\site-packages (from matplotlib!=3.6.1,>=3.1->seaborn) (0.11.0)\n",
      "Requirement already satisfied: fonttools>=4.22.0 in c:\\users\\cymon\\anaconda3\\lib\\site-packages (from matplotlib!=3.6.1,>=3.1->seaborn) (4.25.0)\n",
      "Requirement already satisfied: kiwisolver>=1.0.1 in c:\\users\\cymon\\anaconda3\\lib\\site-packages (from matplotlib!=3.6.1,>=3.1->seaborn) (1.4.4)\n",
      "Requirement already satisfied: packaging>=20.0 in c:\\users\\cymon\\anaconda3\\lib\\site-packages (from matplotlib!=3.6.1,>=3.1->seaborn) (23.1)\n",
      "Requirement already satisfied: pillow>=6.2.0 in c:\\users\\cymon\\anaconda3\\lib\\site-packages (from matplotlib!=3.6.1,>=3.1->seaborn) (10.0.1)\n",
      "Requirement already satisfied: pyparsing<3.1,>=2.3.1 in c:\\users\\cymon\\anaconda3\\lib\\site-packages (from matplotlib!=3.6.1,>=3.1->seaborn) (3.0.9)\n",
      "Requirement already satisfied: python-dateutil>=2.7 in c:\\users\\cymon\\anaconda3\\lib\\site-packages (from matplotlib!=3.6.1,>=3.1->seaborn) (2.8.2)\n",
      "Requirement already satisfied: pytz>=2020.1 in c:\\users\\cymon\\anaconda3\\lib\\site-packages (from pandas>=0.25->seaborn) (2023.3.post1)\n",
      "Requirement already satisfied: tzdata>=2022.1 in c:\\users\\cymon\\anaconda3\\lib\\site-packages (from pandas>=0.25->seaborn) (2023.3)\n",
      "Requirement already satisfied: six>=1.5 in c:\\users\\cymon\\anaconda3\\lib\\site-packages (from python-dateutil>=2.7->matplotlib!=3.6.1,>=3.1->seaborn) (1.16.0)\n"
     ]
    }
   ],
   "source": [
    "!pip install pandas\n",
    "!pip install seaborn"
   ]
  },
  {
   "cell_type": "markdown",
   "metadata": {},
   "source": [
    "\n",
    "\n",
    "\\<indicate target task (i.e. classification or regression) here\\>"
   ]
  },
  {
   "cell_type": "markdown",
   "metadata": {},
   "source": [
    "## The Dataset\n",
    "\n",
    "-- [Return to Table of Contents](#music-dataset---stintsy-s14-project-(flexbomb)) --\n",
    "\n",
    "**`Music`** is a universal language, transcending cultures and time. It is a powerful art form that can evoke a wide range of emotions, from joy and excitement to sadness and reflection. Music can be used to express oneself, to connect with others, and to celebrate life. We are studying this dataset because it could be essential for studying music and developing new music technologies. In this notebook in particular, it will be used to train machine learning models to perform a variety of tasks. These models can then be used to create new products and services, such as personalized music streaming services and intelligent music assistants.\n",
    "\n",
    "The dataset is provided as a `.csv` file where it can be viewed in Excel and Notepad. \n",
    "\n",
    "This dataset contains 17,996 **rows** across 17 **columns**. Each row represents **1 song**, while columns represent **audio features**. The following are the columns in the dataset and their descriptions:\n",
    "\n",
    "| Column Name | Description |\n",
    "| --- | --- |\n",
    "| **`Artist Name`** | Name of artist |\n",
    "| **`Track Name`** | Name of song |\n",
    "| **`Popularity`** | A value between 0 and 100, calculated by an algorithm and is based, in the most part, on the total number of plays the track has had and how recent those plays are |\n",
    "| **`danceability`** | Describes how suitable a track is for dancing; 0.0 is least danceable and 1.0 is most danceable |\n",
    "| **`energy`** | A measure from 0.0 to 1.0 and represents a perceptual measure of intensity and activity |\n",
    "| **`key`** | The key the track is in, integers map to pitches using standard [Pitch Class notation](https://en.wikipedia.org/wiki/Pitch_class); -1 if no key was detected |\n",
    "| **`loudness`** | The quality of a sound that is the primary psychological correlate of physical strength (amplitude), values are averaged across the entire track; in decibels (dB) |\n",
    "| **`mode`** | Indicates the modality (major or minor) of a track, the type of scale from which its melodic content is derived; 1 is Major and 0 is Minor |\n",
    "| **`speechiness`** | The presence of spoken words in a track; >0.66 is probably made entirely of spoken words, 0.33-0.66 may contain both music and speech, <0.33 most likely represents music |\n",
    "| **`acousticness`** | A confidence measure from 0.0 to 1.0 of whether the track is acoustic |\n",
    "| **`instrumentalness`** | Predicts whether a track contains no vocals; >0.5 is intended to represent instrumental tracks |\n",
    "| **`liveness`** | Detects the presence of an audience in the recording; >0.8 provides strong likelihood that the track is live |\n",
    "| **`valence`** | A measure from 0.0 to 1.0 describing the musical positiveness conveyed by a track; tracks with high valence sound more positive, and vice versa|\n",
    "| **`tempo`** | The overall estimated tempo of a track in beats per minute (BPM) |\n",
    "| **`duration_in min/ms`** | Duration in millisecond (ms) |\n",
    "| **`time_signature`** | A notational convention to specify how many beats are in each bar |\n",
    "| **`Class`** | corresponds to the genre of the track |"
   ]
  },
  {
   "cell_type": "markdown",
   "metadata": {},
   "source": [
    "State a brief description of the dataset.\n",
    "\n",
    "• Provide a description of the collection process executed to build the dataset. Discuss the\n",
    "implications of the data collection method on the generated conclusions and insights.\n",
    "Note that you may need to look at relevant sources related to the dataset to acquire\n",
    "necessary information for this part of the project.\n",
    "\n",
    "• Describe the structure of the dataset file. <br>\n",
    "    o What does each row and column represent? <br>\n",
    "    o How many instances are there in the dataset? <br>\n",
    "    o How many features are there in the dataset? <br>\n",
    "    o If the dataset is composed of different files that you will combine in the succeeding\n",
    "steps, describe the structure and the contents of each file.\n",
    "\n",
    "• Discuss the features in each dataset file. What does each feature represent? All features,\n",
    "even those which are not used for the study, should be described to the reader. The\n",
    "purpose of each feature in the dataset should be clear to the reader of the notebook\n",
    "without having to go through an external link."
   ]
  },
  {
   "cell_type": "markdown",
   "metadata": {},
   "source": [
    "## List of Requirements\n",
    "-- [Return to Table of Contents](#music-dataset---stintsy-s14-project-(flexbomb)) --\n",
    "\n",
    "1. [Numpy](https://numpy.org/)\n",
    "2. [Matplotlib](https://matplotlib.org/)\n",
    "3. [CSV](https://docs.python.org/3/library/csv.html)\n",
    "\n",
    "For this notebook, **numpy**, **matplotlib**, and **csv** must be imported."
   ]
  },
  {
   "cell_type": "code",
   "execution_count": 7,
   "metadata": {
    "colab": {
     "base_uri": "https://localhost:8080/",
     "height": 35
    },
    "colab_type": "code",
    "id": "A5vlL2jfDNoE",
    "outputId": "7b0fd08a-ac20-4c02-97f0-392001a32f0d"
   },
   "outputs": [],
   "source": [
    "import numpy as np\n",
    "import matplotlib.pyplot as plt\n",
    "import csv\n",
    "\n",
    "plt.style.use('ggplot')\n",
    "\n",
    "%matplotlib inline\n",
    "%load_ext autoreload\n",
    "%autoreload 2"
   ]
  },
  {
   "cell_type": "markdown",
   "metadata": {},
   "source": [
    "## Reading the Dataset\n",
    "-- [Return to Table of Contents](#music-dataset---stintsy-s14-project-(flexbomb)) --\n",
    "\n",
    "Here we will load the dataset using `csv`. We use the [`reader`](https://docs.python.org/3/library/csv.html) function to load the dataset. The path will have to be changed depending on the location of the file in your machine.\n"
   ]
  },
  {
   "cell_type": "code",
   "execution_count": 8,
   "metadata": {},
   "outputs": [
    {
     "data": {
      "text/html": [
       "<div>\n",
       "<style scoped>\n",
       "    .dataframe tbody tr th:only-of-type {\n",
       "        vertical-align: middle;\n",
       "    }\n",
       "\n",
       "    .dataframe tbody tr th {\n",
       "        vertical-align: top;\n",
       "    }\n",
       "\n",
       "    .dataframe thead th {\n",
       "        text-align: right;\n",
       "    }\n",
       "</style>\n",
       "<table border=\"1\" class=\"dataframe\">\n",
       "  <thead>\n",
       "    <tr style=\"text-align: right;\">\n",
       "      <th></th>\n",
       "      <th>Artist Name</th>\n",
       "      <th>Track Name</th>\n",
       "      <th>Popularity</th>\n",
       "      <th>danceability</th>\n",
       "      <th>energy</th>\n",
       "      <th>key</th>\n",
       "      <th>loudness</th>\n",
       "      <th>mode</th>\n",
       "      <th>speechiness</th>\n",
       "      <th>acousticness</th>\n",
       "      <th>instrumentalness</th>\n",
       "      <th>liveness</th>\n",
       "      <th>valence</th>\n",
       "      <th>tempo</th>\n",
       "      <th>duration_in min/ms</th>\n",
       "      <th>time_signature</th>\n",
       "      <th>Class</th>\n",
       "    </tr>\n",
       "  </thead>\n",
       "  <tbody>\n",
       "    <tr>\n",
       "      <th>0</th>\n",
       "      <td>Bruno Mars</td>\n",
       "      <td>That's What I Like (feat. Gucci Mane)</td>\n",
       "      <td>60.0</td>\n",
       "      <td>0.854</td>\n",
       "      <td>0.564</td>\n",
       "      <td>1.0</td>\n",
       "      <td>-4.964</td>\n",
       "      <td>1</td>\n",
       "      <td>0.0485</td>\n",
       "      <td>0.017100</td>\n",
       "      <td>NaN</td>\n",
       "      <td>0.0849</td>\n",
       "      <td>0.8990</td>\n",
       "      <td>134.071</td>\n",
       "      <td>234596.0</td>\n",
       "      <td>4</td>\n",
       "      <td>5</td>\n",
       "    </tr>\n",
       "    <tr>\n",
       "      <th>1</th>\n",
       "      <td>Boston</td>\n",
       "      <td>Hitch a Ride</td>\n",
       "      <td>54.0</td>\n",
       "      <td>0.382</td>\n",
       "      <td>0.814</td>\n",
       "      <td>3.0</td>\n",
       "      <td>-7.230</td>\n",
       "      <td>1</td>\n",
       "      <td>0.0406</td>\n",
       "      <td>0.001100</td>\n",
       "      <td>0.004010</td>\n",
       "      <td>0.1010</td>\n",
       "      <td>0.5690</td>\n",
       "      <td>116.454</td>\n",
       "      <td>251733.0</td>\n",
       "      <td>4</td>\n",
       "      <td>10</td>\n",
       "    </tr>\n",
       "    <tr>\n",
       "      <th>2</th>\n",
       "      <td>The Raincoats</td>\n",
       "      <td>No Side to Fall In</td>\n",
       "      <td>35.0</td>\n",
       "      <td>0.434</td>\n",
       "      <td>0.614</td>\n",
       "      <td>6.0</td>\n",
       "      <td>-8.334</td>\n",
       "      <td>1</td>\n",
       "      <td>0.0525</td>\n",
       "      <td>0.486000</td>\n",
       "      <td>0.000196</td>\n",
       "      <td>0.3940</td>\n",
       "      <td>0.7870</td>\n",
       "      <td>147.681</td>\n",
       "      <td>109667.0</td>\n",
       "      <td>4</td>\n",
       "      <td>6</td>\n",
       "    </tr>\n",
       "    <tr>\n",
       "      <th>3</th>\n",
       "      <td>Deno</td>\n",
       "      <td>Lingo (feat. J.I &amp; Chunkz)</td>\n",
       "      <td>66.0</td>\n",
       "      <td>0.853</td>\n",
       "      <td>0.597</td>\n",
       "      <td>10.0</td>\n",
       "      <td>-6.528</td>\n",
       "      <td>0</td>\n",
       "      <td>0.0555</td>\n",
       "      <td>0.021200</td>\n",
       "      <td>NaN</td>\n",
       "      <td>0.1220</td>\n",
       "      <td>0.5690</td>\n",
       "      <td>107.033</td>\n",
       "      <td>173968.0</td>\n",
       "      <td>4</td>\n",
       "      <td>5</td>\n",
       "    </tr>\n",
       "    <tr>\n",
       "      <th>4</th>\n",
       "      <td>Red Hot Chili Peppers</td>\n",
       "      <td>Nobody Weird Like Me - Remastered</td>\n",
       "      <td>53.0</td>\n",
       "      <td>0.167</td>\n",
       "      <td>0.975</td>\n",
       "      <td>2.0</td>\n",
       "      <td>-4.279</td>\n",
       "      <td>1</td>\n",
       "      <td>0.2160</td>\n",
       "      <td>0.000169</td>\n",
       "      <td>0.016100</td>\n",
       "      <td>0.1720</td>\n",
       "      <td>0.0918</td>\n",
       "      <td>199.060</td>\n",
       "      <td>229960.0</td>\n",
       "      <td>4</td>\n",
       "      <td>10</td>\n",
       "    </tr>\n",
       "    <tr>\n",
       "      <th>...</th>\n",
       "      <td>...</td>\n",
       "      <td>...</td>\n",
       "      <td>...</td>\n",
       "      <td>...</td>\n",
       "      <td>...</td>\n",
       "      <td>...</td>\n",
       "      <td>...</td>\n",
       "      <td>...</td>\n",
       "      <td>...</td>\n",
       "      <td>...</td>\n",
       "      <td>...</td>\n",
       "      <td>...</td>\n",
       "      <td>...</td>\n",
       "      <td>...</td>\n",
       "      <td>...</td>\n",
       "      <td>...</td>\n",
       "      <td>...</td>\n",
       "    </tr>\n",
       "    <tr>\n",
       "      <th>17991</th>\n",
       "      <td>Green-House</td>\n",
       "      <td>Find Home</td>\n",
       "      <td>35.0</td>\n",
       "      <td>0.166</td>\n",
       "      <td>0.109</td>\n",
       "      <td>7.0</td>\n",
       "      <td>-17.100</td>\n",
       "      <td>0</td>\n",
       "      <td>0.0413</td>\n",
       "      <td>0.993000</td>\n",
       "      <td>0.824000</td>\n",
       "      <td>0.0984</td>\n",
       "      <td>0.1770</td>\n",
       "      <td>171.587</td>\n",
       "      <td>193450.0</td>\n",
       "      <td>3</td>\n",
       "      <td>6</td>\n",
       "    </tr>\n",
       "    <tr>\n",
       "      <th>17992</th>\n",
       "      <td>Micatone</td>\n",
       "      <td>All Gone</td>\n",
       "      <td>27.0</td>\n",
       "      <td>0.638</td>\n",
       "      <td>0.223</td>\n",
       "      <td>11.0</td>\n",
       "      <td>-10.174</td>\n",
       "      <td>0</td>\n",
       "      <td>0.0329</td>\n",
       "      <td>0.858000</td>\n",
       "      <td>0.000016</td>\n",
       "      <td>0.0705</td>\n",
       "      <td>0.3350</td>\n",
       "      <td>73.016</td>\n",
       "      <td>257067.0</td>\n",
       "      <td>4</td>\n",
       "      <td>2</td>\n",
       "    </tr>\n",
       "    <tr>\n",
       "      <th>17993</th>\n",
       "      <td>Smash Hit Combo</td>\n",
       "      <td>Peine perdue</td>\n",
       "      <td>34.0</td>\n",
       "      <td>0.558</td>\n",
       "      <td>0.981</td>\n",
       "      <td>4.0</td>\n",
       "      <td>-4.683</td>\n",
       "      <td>0</td>\n",
       "      <td>0.0712</td>\n",
       "      <td>0.000030</td>\n",
       "      <td>0.000136</td>\n",
       "      <td>0.6660</td>\n",
       "      <td>0.2620</td>\n",
       "      <td>105.000</td>\n",
       "      <td>216222.0</td>\n",
       "      <td>4</td>\n",
       "      <td>8</td>\n",
       "    </tr>\n",
       "    <tr>\n",
       "      <th>17994</th>\n",
       "      <td>Beherit</td>\n",
       "      <td>Salomon's Gate</td>\n",
       "      <td>29.0</td>\n",
       "      <td>0.215</td>\n",
       "      <td>0.805</td>\n",
       "      <td>6.0</td>\n",
       "      <td>-12.757</td>\n",
       "      <td>0</td>\n",
       "      <td>0.1340</td>\n",
       "      <td>0.001290</td>\n",
       "      <td>0.916000</td>\n",
       "      <td>0.2560</td>\n",
       "      <td>0.3550</td>\n",
       "      <td>131.363</td>\n",
       "      <td>219693.0</td>\n",
       "      <td>4</td>\n",
       "      <td>8</td>\n",
       "    </tr>\n",
       "    <tr>\n",
       "      <th>17995</th>\n",
       "      <td>The Raconteurs</td>\n",
       "      <td>Broken Boy Soldier</td>\n",
       "      <td>43.0</td>\n",
       "      <td>0.400</td>\n",
       "      <td>0.853</td>\n",
       "      <td>4.0</td>\n",
       "      <td>-5.320</td>\n",
       "      <td>0</td>\n",
       "      <td>0.0591</td>\n",
       "      <td>0.006040</td>\n",
       "      <td>0.212000</td>\n",
       "      <td>0.3340</td>\n",
       "      <td>0.3770</td>\n",
       "      <td>138.102</td>\n",
       "      <td>182227.0</td>\n",
       "      <td>4</td>\n",
       "      <td>10</td>\n",
       "    </tr>\n",
       "  </tbody>\n",
       "</table>\n",
       "<p>17996 rows × 17 columns</p>\n",
       "</div>"
      ],
      "text/plain": [
       "                 Artist Name                             Track Name  \\\n",
       "0                 Bruno Mars  That's What I Like (feat. Gucci Mane)   \n",
       "1                     Boston                           Hitch a Ride   \n",
       "2              The Raincoats                     No Side to Fall In   \n",
       "3                       Deno             Lingo (feat. J.I & Chunkz)   \n",
       "4      Red Hot Chili Peppers      Nobody Weird Like Me - Remastered   \n",
       "...                      ...                                    ...   \n",
       "17991            Green-House                              Find Home   \n",
       "17992               Micatone                               All Gone   \n",
       "17993        Smash Hit Combo                           Peine perdue   \n",
       "17994                Beherit                         Salomon's Gate   \n",
       "17995         The Raconteurs                     Broken Boy Soldier   \n",
       "\n",
       "       Popularity  danceability  energy   key  loudness  mode  speechiness  \\\n",
       "0            60.0         0.854   0.564   1.0    -4.964     1       0.0485   \n",
       "1            54.0         0.382   0.814   3.0    -7.230     1       0.0406   \n",
       "2            35.0         0.434   0.614   6.0    -8.334     1       0.0525   \n",
       "3            66.0         0.853   0.597  10.0    -6.528     0       0.0555   \n",
       "4            53.0         0.167   0.975   2.0    -4.279     1       0.2160   \n",
       "...           ...           ...     ...   ...       ...   ...          ...   \n",
       "17991        35.0         0.166   0.109   7.0   -17.100     0       0.0413   \n",
       "17992        27.0         0.638   0.223  11.0   -10.174     0       0.0329   \n",
       "17993        34.0         0.558   0.981   4.0    -4.683     0       0.0712   \n",
       "17994        29.0         0.215   0.805   6.0   -12.757     0       0.1340   \n",
       "17995        43.0         0.400   0.853   4.0    -5.320     0       0.0591   \n",
       "\n",
       "       acousticness  instrumentalness  liveness  valence    tempo  \\\n",
       "0          0.017100               NaN    0.0849   0.8990  134.071   \n",
       "1          0.001100          0.004010    0.1010   0.5690  116.454   \n",
       "2          0.486000          0.000196    0.3940   0.7870  147.681   \n",
       "3          0.021200               NaN    0.1220   0.5690  107.033   \n",
       "4          0.000169          0.016100    0.1720   0.0918  199.060   \n",
       "...             ...               ...       ...      ...      ...   \n",
       "17991      0.993000          0.824000    0.0984   0.1770  171.587   \n",
       "17992      0.858000          0.000016    0.0705   0.3350   73.016   \n",
       "17993      0.000030          0.000136    0.6660   0.2620  105.000   \n",
       "17994      0.001290          0.916000    0.2560   0.3550  131.363   \n",
       "17995      0.006040          0.212000    0.3340   0.3770  138.102   \n",
       "\n",
       "       duration_in min/ms  time_signature  Class  \n",
       "0                234596.0               4      5  \n",
       "1                251733.0               4     10  \n",
       "2                109667.0               4      6  \n",
       "3                173968.0               4      5  \n",
       "4                229960.0               4     10  \n",
       "...                   ...             ...    ...  \n",
       "17991            193450.0               3      6  \n",
       "17992            257067.0               4      2  \n",
       "17993            216222.0               4      8  \n",
       "17994            219693.0               4      8  \n",
       "17995            182227.0               4     10  \n",
       "\n",
       "[17996 rows x 17 columns]"
      ]
     },
     "metadata": {},
     "output_type": "display_data"
    }
   ],
   "source": [
    "import pandas as pd\n",
    "\n",
    "df = pd.read_csv('music.csv')\n",
    "display(df)"
   ]
  },
  {
   "cell_type": "markdown",
   "metadata": {},
   "source": [
    "The dataset is now loaded in the ???.\n",
    "\n",
    "Show the contents of the..."
   ]
  },
  {
   "cell_type": "markdown",
   "metadata": {},
   "source": [
    "## Exploratory Data Analysis Questions\n",
    "-- [Return to Table of Contents](#music-dataset---stintsy-s14-project-(flexbomb)) --\n",
    "\n",
    "1. [**`Question 4`**](#question-4): Distribution of Features: Plot histograms or kernel density plots for Valence, Tempo, Liveness, Loudness, Acousticness, and Energy to understand their distributions.\n",
    "2. [**`Question 5`**](#question-5): Class Distribution: Plot the distribution of the Class variable (target variable). Understand the balance between different classes.\n",
    "3. [**`Question 6`**](#question-6): Relationship Between Features and Class: Use scatter plots or box plots to visualize the relationship between each feature and the target Class variable Identify any patterns or clusters that may exist."
   ]
  },
  {
   "cell_type": "markdown",
   "metadata": {},
   "source": [
    "## Data Preprocessing and Cleaning\n",
    "\n",
    "-- [Return to Table of Contents](#music-dataset---stintsy-s14-project-(flexbomb)) --"
   ]
  },
  {
   "cell_type": "markdown",
   "metadata": {},
   "source": [
    "Before we begin exploring our data, it is first and foremost important to understand what are the characteristics of our features to help us make smart decisions to our pre-processing steps. It identifies which pre-processing techniques can be done so that exploratory data analysis and data modeeling is most accurate. \n",
    "\n",
    "To do this, plot the distribution each of the features Valence, Tempo, Liveness, Loudness, Acousticness, and Energy using ``matplotlib.pyplot``."
   ]
  },
  {
   "cell_type": "code",
   "execution_count": 11,
   "metadata": {
    "tags": []
   },
   "outputs": [
    {
     "data": {
      "image/png": "[encoded data removed]",
      "text/plain": [
       "<Figure size 1500x800 with 6 Axes>"
      ]
     },
     "metadata": {},
     "output_type": "display_data"
    }
   ],
   "source": [
    "# Set up the figure and axes\n",
    "features = df[['valence', 'tempo', 'liveness', 'loudness', 'acousticness', 'energy']]\n",
    "fig, axes = plt.subplots(nrows=2, ncols=3, figsize=(15, 8))\n",
    "\n",
    "# Flatten the axes for easier iteration\n",
    "axes = axes.flatten()\n",
    "\n",
    "# List of columns to visualize\n",
    "columns_to_visualize = ['valence', 'tempo', 'liveness', 'loudness', 'acousticness', 'energy']\n",
    "\n",
    "# Create histograms for each column using a for loop\n",
    "for i, column in enumerate(columns_to_visualize):\n",
    "    ax = axes[i]\n",
    "    ax.hist(features[column], bins=20, color='skyblue', edgecolor='black')\n",
    "    ax.set_title(f'{column} distribution')\n",
    "    ax.set_xlabel('Value')\n",
    "    ax.set_ylabel('Frequency')\n",
    "\n",
    "# Adjust layout\n",
    "plt.tight_layout()\n",
    "\n",
    "# Show the plot\n",
    "plt.show()"
   ]
  },
  {
   "cell_type": "markdown",
   "metadata": {},
   "source": [
    "Looking at the distributions above, it is clear that most of our data is skewed and in need of normalization. We can try to normalize this using "
   ]
  },
  {
   "cell_type": "code",
   "execution_count": null,
   "metadata": {},
   "outputs": [],
   "source": []
  },
  {
   "cell_type": "code",
   "execution_count": null,
   "metadata": {},
   "outputs": [],
   "source": []
  },
  {
   "cell_type": "code",
   "execution_count": null,
   "metadata": {},
   "outputs": [],
   "source": []
  },
  {
   "cell_type": "code",
   "execution_count": null,
   "metadata": {},
   "outputs": [],
   "source": []
  },
  {
   "cell_type": "code",
   "execution_count": null,
   "metadata": {},
   "outputs": [],
   "source": []
  },
  {
   "cell_type": "markdown",
   "metadata": {},
   "source": [
    "We then check if there are any duplicated data in the dataset. We do this by calling the ??? function. The function checks and returns the duplicated values."
   ]
  },
  {
   "cell_type": "code",
   "execution_count": null,
   "metadata": {},
   "outputs": [],
   "source": [
    "print(\"Number of duplicates: \")\n",
    "print(\"Duplicated data\")"
   ]
  },
  {
   "cell_type": "markdown",
   "metadata": {},
   "source": [
    "As displayed above there are **``?? duplicates``** in the dataset. These can be simply removed by calling the function the ??? function."
   ]
  },
  {
   "cell_type": "code",
   "execution_count": null,
   "metadata": {},
   "outputs": [],
   "source": [
    "#drop duplicates"
   ]
  },
  {
   "cell_type": "markdown",
   "metadata": {},
   "source": [
    "Check which columns have **NaN or Null** values and **count** how many null values each column has."
   ]
  },
  {
   "cell_type": "code",
   "execution_count": null,
   "metadata": {},
   "outputs": [],
   "source": [
    "# show nan_count per variable"
   ]
  },
  {
   "cell_type": "markdown",
   "metadata": {},
   "source": [
    "Here is a graph of the amount of null data in each column for better visualization."
   ]
  },
  {
   "cell_type": "code",
   "execution_count": null,
   "metadata": {},
   "outputs": [],
   "source": [
    "# nan bar graph"
   ]
  },
  {
   "cell_type": "markdown",
   "metadata": {},
   "source": [
    "The dataset should first be described for us to know how to handle the NaN values. Here we used the ??? function to..."
   ]
  },
  {
   "cell_type": "code",
   "execution_count": null,
   "metadata": {},
   "outputs": [],
   "source": [
    "# "
   ]
  },
  {
   "cell_type": "markdown",
   "metadata": {},
   "source": [
    "Now that we have cleaned all columns that will be used for this notebook. We can now begin the [Exploratory Data Analysis](#exploratory-data-analysis)."
   ]
  },
  {
   "cell_type": "markdown",
   "metadata": {},
   "source": [
    "## Exploratory Data Analysis\n",
    "\n",
    "-- [Return to Table of Contents](#music-dataset---stintsy-s14-project-(flexbomb)) --"
   ]
  },
  {
   "cell_type": "markdown",
   "metadata": {},
   "source": [
    "### Question 1: Question"
   ]
  },
  {
   "cell_type": "markdown",
   "metadata": {},
   "source": [
    "### EDA Question 1 Results"
   ]
  }
 ],
 "metadata": {
  "colab": {
   "name": "1 - Jupyter Notebook and Python.ipynb",
   "provenance": []
  },
  "kernelspec": {
   "display_name": "Python 3 (ipykernel)",
   "language": "python",
   "name": "python3"
  },
  "language_info": {
   "codemirror_mode": {
    "name": "ipython",
    "version": 3
   },
   "file_extension": ".py",
   "mimetype": "text/x-python",
   "name": "python",
   "nbconvert_exporter": "python",
   "pygments_lexer": "ipython3",
   "version": "3.12.0"
  },
  "vscode": {
   "interpreter": {
    "hash": "35ed6aa12a0d6ba18c9d471f8c51327fdbfc13293fb971f148297e9497ae5ae2"
   }
  }
 },
 "nbformat": 4,
 "nbformat_minor": 4
}
